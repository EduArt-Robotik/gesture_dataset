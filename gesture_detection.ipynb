{
 "cells": [
  {
   "cell_type": "markdown",
   "metadata": {},
   "source": [
    "# Skript zum Testen der Objekterkennung"
   ]
  },
  {
   "cell_type": "code",
   "execution_count": null,
   "metadata": {},
   "outputs": [],
   "source": [
    "!pip install opencv-python ultralytics"
   ]
  },
  {
   "cell_type": "code",
   "execution_count": null,
   "metadata": {},
   "outputs": [],
   "source": [
    "model_path = \"path/to/gesture_yolov8n.pt\" # <-- ggf. Pfad anpassen\n",
    "# e.g.\n",
    "#model_path = \"/workspaces/ai_tutorial/ros_ws/src/ai_tutorial/model/gesture_yolov8n.pt\""
   ]
  },
  {
   "cell_type": "code",
   "execution_count": null,
   "metadata": {},
   "outputs": [],
   "source": [
    "import cv2\n",
    "from ultralytics import YOLO\n",
    "\n",
    "# Load your trained YOLOv8 model (PyTorch .pt file)\n",
    "model = YOLO(model_path)  # Update the path\n",
    "\n",
    "# Set class names if not embedded in the model\n",
    "# default dataset\n",
    "class_names = [\"down\", \"left\", \"no_gesture\", \"right\", \"stop\", \"up\"]\n",
    "\n",
    "# dataset with the thumbs_up gesture\n",
    "#class_names = [\"down\", \"left\", \"no_gesture\", \"right\", \"stop\", \"thumbs_up\" ,\"up\"]\n",
    "\n",
    "# Open webcam\n",
    "cap = cv2.VideoCapture(0)\n",
    "\n",
    "while True:\n",
    "    ret, frame = cap.read()\n",
    "    if not ret:\n",
    "        break\n",
    "\n",
    "    # Run inference\n",
    "    results = model(frame, imgsz=640, conf=0.4)[0]  # results[0] = first image in batch\n",
    "\n",
    "    for box in results.boxes:\n",
    "        x1, y1, x2, y2 = map(int, box.xyxy[0].tolist())\n",
    "        conf = float(box.conf[0])\n",
    "        cls_id = int(box.cls[0])\n",
    "        label = class_names[cls_id] if cls_id < len(class_names) else f\"ID:{cls_id}\"\n",
    "\n",
    "        cv2.rectangle(frame, (x1, y1), (x2, y2), (0, 255, 0), 2)\n",
    "        cv2.putText(frame, f\"{label} {conf:.2f}\", (x1, y1 - 10),\n",
    "                    cv2.FONT_HERSHEY_SIMPLEX, 0.6, (0, 255, 0), 2)\n",
    "\n",
    "    cv2.imshow(\"YOLOv8n Detection (.pt)\", frame)\n",
    "    if cv2.waitKey(1) & 0xFF == ord('q'):\n",
    "        break\n",
    "\n",
    "cap.release()\n",
    "cv2.destroyAllWindows()\n"
   ]
  },
  {
   "cell_type": "markdown",
   "metadata": {},
   "source": [
    "## Skript zur Aufnahme von Bildern"
   ]
  },
  {
   "cell_type": "code",
   "execution_count": null,
   "metadata": {},
   "outputs": [],
   "source": [
    "import cv2\n",
    "import time\n",
    "import os\n",
    "import matplotlib.pyplot as plt\n",
    "from IPython.display import clear_output\n",
    "\n",
    "# Zielordner\n",
    "output_dir = \"thumbs_up\"\n",
    "fps = 5\n",
    "interval = 1 / fps\n",
    "os.makedirs(output_dir, exist_ok=True)\n",
    "\n",
    "# Kamera öffnen (0 = erste Kamera, 1 = zweite, ...)\n",
    "cap = cv2.VideoCapture(0)\n",
    "if not cap.isOpened():\n",
    "    print(\"Kann die Kamera nicht öffnen\")\n",
    "    cap.release()\n",
    "\n",
    "frame_count = 0\n",
    "last_capture_time = time.time()\n",
    "\n",
    "try:\n",
    "    while True:\n",
    "        ret, frame = cap.read()\n",
    "        if not ret:\n",
    "            break\n",
    "\n",
    "        # Bild nur alle \"interval\"-Sekunden speichern\n",
    "        current_time = time.time()\n",
    "        if current_time - last_capture_time >= interval:\n",
    "            filename = os.path.join(output_dir, f\"frame_{frame_count:05d}.jpg\")\n",
    "            cv2.imwrite(filename, frame)\n",
    "            print(f\"Gespeichert: {filename}\")\n",
    "            frame_count += 1\n",
    "            last_capture_time = current_time\n",
    "\n",
    "        # Aktuelles Bild anzeigen (inline)\n",
    "        frame_rgb = cv2.cvtColor(frame, cv2.COLOR_BGR2RGB)\n",
    "        clear_output(wait=True)\n",
    "        plt.imshow(frame_rgb)\n",
    "        plt.axis('off')\n",
    "        plt.show()\n",
    "\n",
    "except KeyboardInterrupt:\n",
    "    print(\"Aufnahme abgebrochen.\")\n",
    "\n",
    "cap.release()\n"
   ]
  },
  {
   "cell_type": "markdown",
   "metadata": {},
   "source": [
    "## Aufteilung in Trainings- und Validierungsdaten"
   ]
  },
  {
   "cell_type": "code",
   "execution_count": null,
   "metadata": {},
   "outputs": [],
   "source": [
    "import os\n",
    "import random\n",
    "from pathlib import Path\n",
    "import shutil\n",
    "\n",
    "def split_dataset(input_images_dir, input_labels_dir, output_base_dir, val_ratio=0.2, seed=42):\n",
    "    random.seed(seed)\n",
    "\n",
    "    # Alle Bilder im Eingabeverzeichnis finden\n",
    "    images = list(Path(input_images_dir).glob(\"*.jpg\")) + list(Path(input_images_dir).glob(\"*.png\"))\n",
    "    if not images:\n",
    "        raise ValueError(\"Keine Bilddateien im Eingabeverzeichnis gefunden.\")\n",
    "\n",
    "    # Zufällig mischen und aufteilen\n",
    "    random.shuffle(images)\n",
    "    val_count = int(len(images) * val_ratio)\n",
    "    val_images = images[:val_count]\n",
    "    train_images = images[val_count:]\n",
    "\n",
    "    def copy_files(image_list, split):\n",
    "        image_out_dir = Path(output_base_dir) / split / \"images\"\n",
    "        label_out_dir = Path(output_base_dir) / split / \"labels\"\n",
    "        image_out_dir.mkdir(parents=True, exist_ok=True)\n",
    "        label_out_dir.mkdir(parents=True, exist_ok=True)\n",
    "\n",
    "        for image_path in image_list:\n",
    "            label_path = Path(input_labels_dir) / (image_path.stem + \".txt\")\n",
    "            shutil.copy(image_path, image_out_dir / image_path.name)\n",
    "            if label_path.exists():\n",
    "                shutil.copy(label_path, label_out_dir / label_path.name)\n",
    "\n",
    "    # Aufteilen und kopieren\n",
    "    copy_files(train_images, \"train\")\n",
    "    copy_files(val_images, \"val\")\n",
    "\n",
    "    print(f\"Datensatz aufgeteilt: {len(train_images)} Trainingsbilder, {len(val_images)} Validierungsbilder.\")\n",
    "\n",
    "# Beispielaufruf – passe die Pfade bei Bedarf an\n",
    "split_dataset(\n",
    "    input_images_dir=\"thumbs_up\",           # Pfad zu deinen Bildern\n",
    "    input_labels_dir=\"thumbs_up\",           # Pfad zu deinen Labels\n",
    "    output_base_dir=\"dataset\",              # Ausgabeordner\n",
    "    val_ratio=0.2                           # 20 % für Validierung\n",
    ")"
   ]
  }
 ],
 "metadata": {
  "kernelspec": {
   "display_name": "pycoral-venv",
   "language": "python",
   "name": "python3"
  },
  "language_info": {
   "codemirror_mode": {
    "name": "ipython",
    "version": 3
   },
   "file_extension": ".py",
   "mimetype": "text/x-python",
   "name": "python",
   "nbconvert_exporter": "python",
   "pygments_lexer": "ipython3",
   "version": "3.12.3"
  }
 },
 "nbformat": 4,
 "nbformat_minor": 2
}
